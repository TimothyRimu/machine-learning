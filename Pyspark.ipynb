{
  "cells": [
    {
      "cell_type": "code",
      "execution_count": 1,
      "metadata": {
        "colab": {
          "base_uri": "https://localhost:8080/"
        },
        "id": "nDLHJGUHjoh6",
        "outputId": "30696eee-663d-4ee7-b147-fa6a109cb35b"
      },
      "outputs": [
        {
          "name": "stdout",
          "output_type": "stream",
          "text": [
            "Requirement already satisfied: pyspark in c:\\users\\mac\\appdata\\local\\programs\\python\\python312\\lib\\site-packages (3.5.1)\n",
            "Requirement already satisfied: py4j==0.10.9.7 in c:\\users\\mac\\appdata\\local\\programs\\python\\python312\\lib\\site-packages (from pyspark) (0.10.9.7)\n"
          ]
        }
      ],
      "source": [
        "# install pyspark\n",
        "!pip install pyspark"
      ]
    },
    {
      "cell_type": "code",
      "execution_count": null,
      "metadata": {
        "id": "1sPYOF9vj7IL"
      },
      "outputs": [],
      "source": [
        "# Create a pyspark session\n",
        "from pyspark.sql import SparkSession\n",
        "\n",
        "spark = SparkSession.builder.getOrCreate()"
      ]
    },
    {
      "cell_type": "code",
      "execution_count": null,
      "metadata": {
        "colab": {
          "base_uri": "https://localhost:8080/"
        },
        "id": "AiRhf8rMkklS",
        "outputId": "9d90d25c-9389-404d-87f4-d85d015c96d2"
      },
      "outputs": [
        {
          "name": "stdout",
          "output_type": "stream",
          "text": [
            "+-----------+---------+------------------+-----------+--------------+-----------+-----------+-------------+------------------+\n",
            "|  longitude| latitude|housing_median_age|total_rooms|total_bedrooms| population| households|median_income|median_house_value|\n",
            "+-----------+---------+------------------+-----------+--------------+-----------+-----------+-------------+------------------+\n",
            "|-114.310000|34.190000|         15.000000|5612.000000|   1283.000000|1015.000000| 472.000000|     1.493600|      66900.000000|\n",
            "|-114.470000|34.400000|         19.000000|7650.000000|   1901.000000|1129.000000| 463.000000|     1.820000|      80100.000000|\n",
            "|-114.560000|33.690000|         17.000000| 720.000000|    174.000000| 333.000000| 117.000000|     1.650900|      85700.000000|\n",
            "|-114.570000|33.640000|         14.000000|1501.000000|    337.000000| 515.000000| 226.000000|     3.191700|      73400.000000|\n",
            "|-114.570000|33.570000|         20.000000|1454.000000|    326.000000| 624.000000| 262.000000|     1.925000|      65500.000000|\n",
            "|-114.580000|33.630000|         29.000000|1387.000000|    236.000000| 671.000000| 239.000000|     3.343800|      74000.000000|\n",
            "|-114.580000|33.610000|         25.000000|2907.000000|    680.000000|1841.000000| 633.000000|     2.676800|      82400.000000|\n",
            "|-114.590000|34.830000|         41.000000| 812.000000|    168.000000| 375.000000| 158.000000|     1.708300|      48500.000000|\n",
            "|-114.590000|33.610000|         34.000000|4789.000000|   1175.000000|3134.000000|1056.000000|     2.178200|      58400.000000|\n",
            "|-114.600000|34.830000|         46.000000|1497.000000|    309.000000| 787.000000| 271.000000|     2.190800|      48100.000000|\n",
            "|-114.600000|33.620000|         16.000000|3741.000000|    801.000000|2434.000000| 824.000000|     2.679700|      86500.000000|\n",
            "|-114.600000|33.600000|         21.000000|1988.000000|    483.000000|1182.000000| 437.000000|     1.625000|      62000.000000|\n",
            "|-114.610000|34.840000|         48.000000|1291.000000|    248.000000| 580.000000| 211.000000|     2.157100|      48600.000000|\n",
            "|-114.610000|34.830000|         31.000000|2478.000000|    464.000000|1346.000000| 479.000000|     3.212000|      70400.000000|\n",
            "|-114.630000|32.760000|         15.000000|1448.000000|    378.000000| 949.000000| 300.000000|     0.858500|      45000.000000|\n",
            "|-114.650000|34.890000|         17.000000|2556.000000|    587.000000|1005.000000| 401.000000|     1.699100|      69100.000000|\n",
            "|-114.650000|33.600000|         28.000000|1678.000000|    322.000000| 666.000000| 256.000000|     2.965300|      94900.000000|\n",
            "|-114.650000|32.790000|         21.000000|  44.000000|     33.000000|  64.000000|  27.000000|     0.857100|      25000.000000|\n",
            "|-114.660000|32.740000|         17.000000|1388.000000|    386.000000| 775.000000| 320.000000|     1.204900|      44000.000000|\n",
            "|-114.670000|33.920000|         17.000000|  97.000000|     24.000000|  29.000000|  15.000000|     1.265600|      27500.000000|\n",
            "+-----------+---------+------------------+-----------+--------------+-----------+-----------+-------------+------------------+\n",
            "only showing top 20 rows\n",
            "\n"
          ]
        }
      ],
      "source": [
        "# Loading in data\n",
        "\n",
        "df = spark.read.csv('/content/sample_data/california_housing_train.csv', header=True)\n",
        "df.show()"
      ]
    },
    {
      "cell_type": "markdown",
      "metadata": {
        "id": "jtAKGO6nlZT9"
      },
      "source": [
        "## SQL for Data Analysis"
      ]
    },
    {
      "cell_type": "code",
      "execution_count": null,
      "metadata": {
        "id": "B7dV9qqylHhf"
      },
      "outputs": [],
      "source": [
        "# create a temporary view that we can Query\n",
        "df.createOrReplaceTempView(\"data\")"
      ]
    },
    {
      "cell_type": "code",
      "execution_count": null,
      "metadata": {
        "colab": {
          "base_uri": "https://localhost:8080/"
        },
        "id": "emVGRushlm7R",
        "outputId": "fbdcfec4-aeeb-4d64-94ea-aa3aa81f69df"
      },
      "outputs": [
        {
          "name": "stdout",
          "output_type": "stream",
          "text": [
            "+---------+\n",
            "| latitude|\n",
            "+---------+\n",
            "|37.070000|\n",
            "|37.940000|\n",
            "|37.690000|\n",
            "|39.750000|\n",
            "|40.250000|\n",
            "|34.930000|\n",
            "|38.770000|\n",
            "|41.500000|\n",
            "|38.270000|\n",
            "|34.490000|\n",
            "+---------+\n",
            "\n"
          ]
        }
      ],
      "source": [
        "# initial sql Query\n",
        "spark.sql(\"SELECT distinct latitude from data LIMIT 10\").show()"
      ]
    },
    {
      "cell_type": "code",
      "execution_count": null,
      "metadata": {
        "colab": {
          "base_uri": "https://localhost:8080/"
        },
        "id": "H06inUyYmARb",
        "outputId": "d30b25cd-dad3-426f-c1a3-48927d6b9a10"
      },
      "outputs": [
        {
          "name": "stdout",
          "output_type": "stream",
          "text": [
            "+------------------+------------------+----------------------+----------------------+\n",
            "|Average_population|Average_households|Max_housing_median_age|Min_housing_median_age|\n",
            "+------------------+------------------+----------------------+----------------------+\n",
            "|1429.5739411764705| 501.2219411764706|              9.000000|              1.000000|\n",
            "+------------------+------------------+----------------------+----------------------+\n",
            "\n"
          ]
        }
      ],
      "source": [
        "query = \"\"\"\n",
        "SELECT\n",
        "AVG(population) AS Average_population,\n",
        "AVG(households) AS Average_households,\n",
        "MAX(housing_median_age) AS Max_housing_median_age,\n",
        "MIN(housing_median_age) AS Min_housing_median_age\n",
        "FROM data\n",
        "\"\"\"\n",
        "\n",
        "spark.sql(query).show()"
      ]
    },
    {
      "cell_type": "markdown",
      "metadata": {
        "id": "xvXGDDiSnnwL"
      },
      "source": [
        "## Machine Learning"
      ]
    },
    {
      "cell_type": "code",
      "execution_count": null,
      "metadata": {
        "colab": {
          "base_uri": "https://localhost:8080/"
        },
        "id": "i3iu4QKLpMJY",
        "outputId": "c8e4a076-d35f-4e43-9f31-cbb3486ddb6d"
      },
      "outputs": [
        {
          "name": "stdout",
          "output_type": "stream",
          "text": [
            "+-----------+--------------+----------+-----+\n",
            "|total_rooms|total_bedrooms|population|label|\n",
            "+-----------+--------------+----------+-----+\n",
            "|       5612|          1283|      1015|66900|\n",
            "|       7650|          1901|      1129|80100|\n",
            "|        720|           174|       333|85700|\n",
            "|       1501|           337|       515|73400|\n",
            "|       1454|           326|       624|65500|\n",
            "|       1387|           236|       671|74000|\n",
            "|       2907|           680|      1841|82400|\n",
            "|        812|           168|       375|48500|\n",
            "|       4789|          1175|      3134|58400|\n",
            "|       1497|           309|       787|48100|\n",
            "|       3741|           801|      2434|86500|\n",
            "|       1988|           483|      1182|62000|\n",
            "|       1291|           248|       580|48600|\n",
            "|       2478|           464|      1346|70400|\n",
            "|       1448|           378|       949|45000|\n",
            "|       2556|           587|      1005|69100|\n",
            "|       1678|           322|       666|94900|\n",
            "|         44|            33|        64|25000|\n",
            "|       1388|           386|       775|44000|\n",
            "|         97|            24|        29|27500|\n",
            "+-----------+--------------+----------+-----+\n",
            "only showing top 20 rows\n",
            "\n"
          ]
        }
      ],
      "source": [
        "from pyspark.sql.types import IntegerType\n",
        "\n",
        "df_int = df.select(\n",
        "    df[\"total_rooms\"].cast(IntegerType()),\n",
        "    df[\"total_bedrooms\"].cast(IntegerType()),\n",
        "    df[\"population\"].cast(IntegerType()),\n",
        "    df[\"median_house_value\"].cast(IntegerType()).alias(\"label\")\n",
        ")\n",
        "\n",
        "df_int.show()"
      ]
    },
    {
      "cell_type": "code",
      "execution_count": null,
      "metadata": {
        "colab": {
          "base_uri": "https://localhost:8080/"
        },
        "id": "NP_aHKz5mrKF",
        "outputId": "3d9279bc-3dd8-4a75-d236-c5c77a93a383"
      },
      "outputs": [
        {
          "name": "stdout",
          "output_type": "stream",
          "text": [
            "+-----------+--------------+----------+-----+--------------------+\n",
            "|total_rooms|total_bedrooms|population|label|            features|\n",
            "+-----------+--------------+----------+-----+--------------------+\n",
            "|       5612|          1283|      1015|66900|[5612.0,1283.0,10...|\n",
            "|       7650|          1901|      1129|80100|[7650.0,1901.0,11...|\n",
            "|        720|           174|       333|85700| [720.0,174.0,333.0]|\n",
            "|       1501|           337|       515|73400|[1501.0,337.0,515.0]|\n",
            "|       1454|           326|       624|65500|[1454.0,326.0,624.0]|\n",
            "|       1387|           236|       671|74000|[1387.0,236.0,671.0]|\n",
            "|       2907|           680|      1841|82400|[2907.0,680.0,184...|\n",
            "|        812|           168|       375|48500| [812.0,168.0,375.0]|\n",
            "|       4789|          1175|      3134|58400|[4789.0,1175.0,31...|\n",
            "|       1497|           309|       787|48100|[1497.0,309.0,787.0]|\n",
            "|       3741|           801|      2434|86500|[3741.0,801.0,243...|\n",
            "|       1988|           483|      1182|62000|[1988.0,483.0,118...|\n",
            "|       1291|           248|       580|48600|[1291.0,248.0,580.0]|\n",
            "|       2478|           464|      1346|70400|[2478.0,464.0,134...|\n",
            "|       1448|           378|       949|45000|[1448.0,378.0,949.0]|\n",
            "|       2556|           587|      1005|69100|[2556.0,587.0,100...|\n",
            "|       1678|           322|       666|94900|[1678.0,322.0,666.0]|\n",
            "|         44|            33|        64|25000|    [44.0,33.0,64.0]|\n",
            "|       1388|           386|       775|44000|[1388.0,386.0,775.0]|\n",
            "|         97|            24|        29|27500|    [97.0,24.0,29.0]|\n",
            "+-----------+--------------+----------+-----+--------------------+\n",
            "only showing top 20 rows\n",
            "\n"
          ]
        }
      ],
      "source": [
        "from pyspark.ml.linalg import Vectors\n",
        "from pyspark.ml.feature import VectorAssembler\n",
        "\n",
        "\n",
        "\n",
        "# create a features vector from df\n",
        "assembler = VectorAssembler(\n",
        "    inputCols=[\"total_rooms\",\"total_bedrooms\", \"population\"],\n",
        "    outputCol=\"features\")\n",
        "\n",
        "output = assembler.transform(df_int)\n",
        "output.show()"
      ]
    },
    {
      "cell_type": "code",
      "execution_count": null,
      "metadata": {
        "colab": {
          "base_uri": "https://localhost:8080/"
        },
        "id": "w_7pWi4Co1SN",
        "outputId": "b0cfb5f3-4e62-44d6-ff34-86924aed6620"
      },
      "outputs": [
        {
          "name": "stdout",
          "output_type": "stream",
          "text": [
            "+-----------------+------+---------------+\n",
            "|       prediction| label|       features|\n",
            "+-----------------+------+---------------+\n",
            "|194023.1889081456| 67500|[12.0,4.0,18.0]|\n",
            "|194023.1889081456|275000| [18.0,3.0,8.0]|\n",
            "|194023.1889081456|350000| [18.0,6.0,3.0]|\n",
            "|194023.1889081456| 80000|[20.0,4.0,74.0]|\n",
            "|194023.1889081456| 67500|[22.0,7.0,55.0]|\n",
            "+-----------------+------+---------------+\n",
            "only showing top 5 rows\n",
            "\n"
          ]
        }
      ],
      "source": [
        "from pyspark.ml.regression import DecisionTreeRegressor\n",
        "from pyspark.ml.evaluation import RegressionEvaluator\n",
        "\n",
        "\n",
        "# Split the data into training and test sets (30% held out for testing)\n",
        "(trainingData, testData) = output.randomSplit([0.7, 0.3])\n",
        "\n",
        "# Train a DecisionTree model.\n",
        "dt = DecisionTreeRegressor(featuresCol=\"features\")\n",
        "\n",
        "# Train model.  This also runs the indexer.\n",
        "model = dt.fit(trainingData)\n",
        "\n",
        "# Make predictions.\n",
        "predictions = model.transform(testData)\n",
        "\n",
        "# Select example rows to display.\n",
        "predictions.select(\"prediction\", \"label\", \"features\").show(5)"
      ]
    },
    {
      "cell_type": "code",
      "execution_count": null,
      "metadata": {
        "colab": {
          "base_uri": "https://localhost:8080/"
        },
        "id": "CYpPOme4qL_T",
        "outputId": "7cd77ab6-affa-4e5f-caa4-2a59e09ff4a9"
      },
      "outputs": [
        {
          "name": "stdout",
          "output_type": "stream",
          "text": [
            "Root Mean Squared Error (RMSE) on test data = 0.173666\n"
          ]
        }
      ],
      "source": [
        "# Select (prediction, true label) and compute test error\n",
        "evaluator = RegressionEvaluator(\n",
        "    labelCol=\"label\", predictionCol=\"prediction\", metricName=\"r2\")\n",
        "rmse = evaluator.evaluate(predictions)\n",
        "print(\"Root Mean Squared Error (RMSE) on test data = %g\" % rmse)"
      ]
    }
  ],
  "metadata": {
    "colab": {
      "provenance": []
    },
    "kernelspec": {
      "display_name": "Python 3",
      "name": "python3"
    },
    "language_info": {
      "codemirror_mode": {
        "name": "ipython",
        "version": 3
      },
      "file_extension": ".py",
      "mimetype": "text/x-python",
      "name": "python",
      "nbconvert_exporter": "python",
      "pygments_lexer": "ipython3",
      "version": "3.12.3"
    }
  },
  "nbformat": 4,
  "nbformat_minor": 0
}
